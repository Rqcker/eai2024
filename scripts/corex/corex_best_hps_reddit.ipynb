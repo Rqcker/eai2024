{
 "cells": [
  {
   "cell_type": "code",
   "execution_count": 1,
   "metadata": {},
   "outputs": [
    {
     "name": "stderr",
     "output_type": "stream",
     "text": [
      "/tmp/ipykernel_911422/358533076.py:61: MarkupResemblesLocatorWarning: The input looks more like a filename than markup. You may want to open this file and pass the filehandle into Beautiful Soup.\n",
      "  soup = BeautifulSoup(html_text, 'html.parser')\n"
     ]
    },
    {
     "name": "stdout",
     "output_type": "stream",
     "text": [
      "spaCy preprocess start!\n"
     ]
    },
    {
     "name": "stderr",
     "output_type": "stream",
     "text": [
      "Cleaning Progress: 100%|██████████| 708/708 [00:02<00:00, 279.68it/s]\n"
     ]
    },
    {
     "name": "stdout",
     "output_type": "stream",
     "text": [
      "spaCy preprocess done!\n",
      "-0.14281257807981684\n"
     ]
    }
   ],
   "source": [
    "import re\n",
    "import numpy as np\n",
    "import pandas as pd\n",
    "import scipy.sparse as ss\n",
    "from bs4 import BeautifulSoup\n",
    "import spacy\n",
    "from spacy_cleaner import processing, Cleaner\n",
    "from corextopic import corextopic as ct\n",
    "from corextopic import vis_topic as vt\n",
    "from gensim.corpora.dictionary import Dictionary\n",
    "from gensim import corpora\n",
    "from sklearn.feature_extraction.text import CountVectorizer\n",
    "import optuna\n",
    "from octis.evaluation_metrics.coherence_metrics import Coherence\n",
    "\n",
    "\n",
    "def split_documents_by_words(documents, max_words=512):\n",
    "    \"\"\"\n",
    "    Split documents if one document's word count is over than max_words.\n",
    "\n",
    "    Args:\n",
    "        documents (list): List of documents as strings.\n",
    "        max_words (int): Maximum number of words for each document.\n",
    "\n",
    "    Returns:\n",
    "        list: List of split documents.\n",
    "    \"\"\"\n",
    "    split_documents = []\n",
    "    for doc in documents:\n",
    "        words = doc.split()\n",
    "        num_words = len(words)\n",
    "        if num_words <= max_words:\n",
    "            split_documents.append(doc)\n",
    "        else:\n",
    "            # Split document into segments of max_words\n",
    "            num_segments = num_words // max_words\n",
    "            for i in range(num_segments + 1):\n",
    "                start_idx = i * max_words\n",
    "                end_idx = (i + 1) * max_words\n",
    "                if ' '.join(words[start_idx:end_idx]) != '' or ' '.join(words[start_idx:end_idx]) != ' ':\n",
    "                    split_documents.append(' '.join(words[start_idx:end_idx]))\n",
    "    return split_documents\n",
    "\n",
    "df = pd.read_json('/home/yy2046/Workspace/DCEE2023/datasets/reddit/subreddit_posts_updated.json')\n",
    "df.drop_duplicates(subset=['title', 'selftext'], inplace=True)\n",
    "data = [row.title + ' ' + str(row.selftext) for index, row in df.iterrows()]\n",
    "\n",
    "''' preprocess '''\n",
    "cleaned_data = []\n",
    "model = spacy.load(\"en_core_web_sm\")\n",
    "cleaner = Cleaner( \n",
    "    model,\n",
    "    processing.remove_stopword_token,\n",
    "    processing.remove_punctuation_token,\n",
    "    processing.remove_email_token,\n",
    "    processing.remove_url_token,\n",
    "    processing.mutate_lemma_token,\n",
    "    \n",
    ")\n",
    "\n",
    "for html_text in data:\n",
    "    soup = BeautifulSoup(html_text, 'html.parser')\n",
    "    soup_text = soup.get_text().lower()\n",
    "    cleaned_data.append(soup_text)\n",
    "# print(cleaned_data[0])\n",
    "print('spaCy preprocess start!')\n",
    "cleaned_data = cleaner.clean(cleaned_data)\n",
    "# print(cleaned_data[0])\n",
    "print('spaCy preprocess done!')\n",
    "\n",
    "docs_list = split_documents_by_words(cleaned_data, max_words=512)\n",
    "\n",
    "seed_topic_list = [[\"reduce\"], [\"reuse\"], [\"recycle\"]]\n",
    "vectorizer = CountVectorizer(stop_words='english',\n",
    "                             max_features=20000,\n",
    "                             binary=True)\n",
    "search_space = {\n",
    "    'anchor_strength': [1, 1.5, 2, 2.5, 3, 3.5, 4, 4.5, 5, 5.5],\n",
    "    'n_hidden': [3, 5, 10, 15, 20, 25]\n",
    "}\n",
    "\n",
    "doc_word = vectorizer.fit_transform(docs_list)\n",
    "doc_word = ss.csr_matrix(doc_word)\n",
    "words = list(np.asarray(vectorizer.get_feature_names_out()))\n",
    "topic_model = ct.Corex(n_hidden=3,\n",
    "                    words=words,\n",
    "                    verbose=False,\n",
    "                    seed=42)\n",
    "topic_model.fit(doc_word,\n",
    "                words=words,\n",
    "                anchors=seed_topic_list,\n",
    "                anchor_strength=1.5)\n",
    "\n",
    "'''coherence computation'''\n",
    "corpus = [ doc.split(' ') for doc in cleaned_data]\n",
    "npmi = Coherence(texts=corpus, topk=10, measure='c_npmi')\n",
    "\n",
    "results = topic_model.get_topics()\n",
    "# print(results)\n",
    "extracted_words = [[item[0] for item in temp] for temp in results]\n",
    "\n",
    "try:\n",
    "    npmi_score = npmi.score({'topics':extracted_words})\n",
    "except:\n",
    "    npmi_score = -99\n",
    "\n",
    "print(npmi_score)\n",
    "\n"
   ]
  },
  {
   "cell_type": "code",
   "execution_count": 2,
   "metadata": {},
   "outputs": [
    {
     "name": "stdout",
     "output_type": "stream",
     "text": [
      "0: reduce, consumption, waste, world, enable, city, use, base, produce, bag\n",
      "1: help, thank, work, project, reuse, hi, look, people, like, currently\n",
      "2: recycle, material, battery, company, loop, london, recycling, solar, public, clean\n"
     ]
    }
   ],
   "source": [
    "topics = topic_model.get_topics()\n",
    "for n,topic in enumerate(topics):\n",
    "    topic_words,_,_ = zip(*topic)\n",
    "    print('{}: '.format(n) + ', '.join(topic_words))"
   ]
  }
 ],
 "metadata": {
  "kernelspec": {
   "display_name": "prime",
   "language": "python",
   "name": "python3"
  },
  "language_info": {
   "codemirror_mode": {
    "name": "ipython",
    "version": 3
   },
   "file_extension": ".py",
   "mimetype": "text/x-python",
   "name": "python",
   "nbconvert_exporter": "python",
   "pygments_lexer": "ipython3",
   "version": "3.9.16"
  }
 },
 "nbformat": 4,
 "nbformat_minor": 2
}
