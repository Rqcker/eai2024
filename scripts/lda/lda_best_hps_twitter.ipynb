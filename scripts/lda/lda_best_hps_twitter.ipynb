{
 "cells": [
  {
   "cell_type": "code",
   "execution_count": 1,
   "metadata": {},
   "outputs": [
    {
     "name": "stderr",
     "output_type": "stream",
     "text": [
      "/tmp/ipykernel_1385173/2319949544.py:56: MarkupResemblesLocatorWarning: The input looks more like a filename than markup. You may want to open this file and pass the filehandle into Beautiful Soup.\n",
      "  soup = BeautifulSoup(html_text, 'html.parser')\n"
     ]
    },
    {
     "name": "stdout",
     "output_type": "stream",
     "text": [
      "spaCy preprocess start!\n"
     ]
    },
    {
     "name": "stderr",
     "output_type": "stream",
     "text": [
      "Cleaning Progress: 100%|██████████| 3922/3922 [00:06<00:00, 640.36it/s]\n"
     ]
    },
    {
     "name": "stdout",
     "output_type": "stream",
     "text": [
      "3922\n",
      "Training LDA model with n_topics=2, alpha=0.5, eta=0.2...\n",
      "[(0, '0.055*\"circulareconomy\" + 0.017*\"waste\" + 0.016*\"recycle\" + 0.014*\"plastic\" + 0.012*\"sustainability\" + 0.007*\"new\" + 0.007*\"eu\" + 0.006*\"breakfreefromplastic\" + 0.005*\"wastetrade\" + 0.005*\"wasteshipment\"'), (1, '0.060*\"circulareconomy\" + 0.019*\"sustainability\" + 0.013*\"circular\" + 0.011*\"economy\" + 0.009*\"sustainable\" + 0.007*\"business\" + 0.005*\"need\" + 0.005*\"waste\" + 0.005*\"package\" + 0.005*\"sustainablepackage\"')]\n",
      "Coherence (c_npmi) score for n_topics=2, alpha=0.5, eta=0.2: 0.019397252926892677\n",
      "Optimisation completed. Results are saved to lda_gs_res_twitts.csv\n",
      "\n",
      "Best Parameters:\n",
      "n_topics: 2.0, alpha: 0.5, eta: 0.2\n",
      "Best Coherence (c_npmi) score: 0.019397252926892677\n"
     ]
    }
   ],
   "source": [
    "import re\n",
    "import pandas as pd\n",
    "from bs4 import BeautifulSoup\n",
    "import spacy\n",
    "import spacy_fastlang\n",
    "from spacy_cleaner import processing, Cleaner\n",
    "import gensim\n",
    "from gensim import corpora\n",
    "from gensim.models.ldamodel import LdaModel\n",
    "from gensim.models.coherencemodel import CoherenceModel\n",
    "\n",
    "\n",
    "def split_documents_by_words(documents, max_words=512):\n",
    "    \"\"\"\n",
    "    Split documents if one document's word count is over than max_words.\n",
    "\n",
    "    Args:\n",
    "        documents (list): List of documents as strings.\n",
    "        max_words (int): Maximum number of words for each document.\n",
    "\n",
    "    Returns:\n",
    "        list: List of split documents.\n",
    "    \"\"\"\n",
    "    split_documents = []\n",
    "    for doc in documents:\n",
    "        words = doc.split()\n",
    "        num_words = len(words)\n",
    "        if num_words <= max_words:\n",
    "            split_documents.append(doc)\n",
    "        else:\n",
    "            # Split document into segments of max_words\n",
    "            num_segments = num_words // max_words\n",
    "            for i in range(num_segments + 1):\n",
    "                start_idx = i * max_words\n",
    "                end_idx = (i + 1) * max_words\n",
    "                if ' '.join(words[start_idx:end_idx]) != '' or ' '.join(words[start_idx:end_idx]) != ' ':\n",
    "                    split_documents.append(' '.join(words[start_idx:end_idx]))\n",
    "    return split_documents\n",
    "\n",
    "df = pd.read_csv('/home/yy2046/Workspace/DCEE2023/datasets/twitter/twitter_junhao.csv', encoding='unicode_escape')\n",
    "data = df['full_text']\n",
    "    \n",
    "''' preprocess '''\n",
    "cleaned_data = []\n",
    "model = spacy.load(\"en_core_web_sm\")\n",
    "cleaner = Cleaner( \n",
    "    model,\n",
    "    processing.remove_stopword_token,\n",
    "    processing.remove_punctuation_token,\n",
    "    processing.remove_email_token,\n",
    "    processing.remove_url_token,\n",
    "    processing.mutate_lemma_token,\n",
    "    \n",
    ")\n",
    "\n",
    "for html_text in data:\n",
    "    soup = BeautifulSoup(html_text, 'html.parser')\n",
    "    soup_text = soup.get_text().lower()\n",
    "    cleaned_data.append(soup_text)\n",
    "# print(cleaned_data[0])\n",
    "print('spaCy preprocess start!')\n",
    "cleaned_data = cleaner.clean(cleaned_data)\n",
    "print(len(cleaned_data))\n",
    "\n",
    "input_data = split_documents_by_words(cleaned_data, max_words=512)\n",
    "input_tokenized_data = [[token.text for token in model(doc)] for doc in input_data]\n",
    "input_dictionary = corpora.Dictionary(input_tokenized_data)\n",
    "input_corpus = [input_dictionary.doc2bow(doc) for doc in input_tokenized_data]\n",
    "\n",
    "\n",
    "co_tokenized_data = [[token.text for token in model(doc)] for doc in cleaned_data]\n",
    "co_dictionary = corpora.Dictionary(co_tokenized_data)\n",
    "\n",
    "n_topics_options = [2]\n",
    "alpha_options = [0.5]\n",
    "eta_options = [0.2]\n",
    "\n",
    "# data structure used to store results\n",
    "results = []\n",
    "\n",
    "for n_topics in n_topics_options:\n",
    "    for alpha in alpha_options:\n",
    "        for eta in eta_options:\n",
    "            print(f\"Training LDA model with n_topics={n_topics}, alpha={alpha}, eta={eta}...\")\n",
    "            lda_model = LdaModel(corpus=input_corpus, id2word=input_dictionary, num_topics=n_topics, \n",
    "                                 alpha=alpha, eta=eta, random_state=42, per_word_topics=True)\n",
    "            print(lda_model.show_topics())\n",
    "            try:\n",
    "                # calculate Coherence score using c_npmi\n",
    "                coherence_model_lda = CoherenceModel(model=lda_model, texts=co_tokenized_data, \n",
    "                                                     dictionary=co_dictionary, coherence='c_npmi')\n",
    "                coherence_lda = coherence_model_lda.get_coherence()\n",
    "                print(f\"Coherence (c_npmi) score for n_topics={n_topics}, alpha={alpha}, eta={eta}: {coherence_lda}\")\n",
    "            except Exception as e:\n",
    "                print(f\"Failed to calculate coherence for n_topics={n_topics}, alpha={alpha}, eta={eta}. Error: {e}\")\n",
    "                coherence_lda = -99\n",
    "\n",
    "            # save the results of the current model\n",
    "            results.append({\n",
    "                'n_topics': n_topics,\n",
    "                'alpha': alpha,\n",
    "                'eta': eta,\n",
    "                'coherence': coherence_lda\n",
    "            })\n",
    "\n",
    "# store as CSV file\n",
    "results_df = pd.DataFrame(results)\n",
    "results_df.to_csv('lda_gs_res_twitts.csv', index=False)\n",
    "\n",
    "print(\"Optimisation completed. Results are saved to lda_gs_res_twitts.csv\")\n",
    "\n",
    "# print best parameters\n",
    "best_result = results_df.loc[results_df['coherence'].idxmax()]\n",
    "\n",
    "print(\"\\nBest Parameters:\")\n",
    "print(f\"n_topics: {best_result['n_topics']}, alpha: {best_result['alpha']}, eta: {best_result['eta']}\")\n",
    "print(f\"Best Coherence (c_npmi) score: {best_result['coherence']}\")\n"
   ]
  },
  {
   "cell_type": "code",
   "execution_count": 2,
   "metadata": {},
   "outputs": [
    {
     "name": "stdout",
     "output_type": "stream",
     "text": [
      "['circulareconomy', 'waste', 'recycle', 'plastic', 'sustainability', 'new', 'eu', 'breakfreefromplastic', 'wastetrade', 'wasteshipment']\n",
      "['circulareconomy', 'sustainability', 'circular', 'economy', 'sustainable', 'business', 'need', 'waste', 'package', 'sustainablepackage']\n"
     ]
    }
   ],
   "source": [
    "import re\n",
    "for i in lda_model.show_topics():\n",
    "    words = re.findall(r'\"([^\"]+)\"', i[1])\n",
    "    print(words)"
   ]
  }
 ],
 "metadata": {
  "kernelspec": {
   "display_name": "prime",
   "language": "python",
   "name": "python3"
  },
  "language_info": {
   "codemirror_mode": {
    "name": "ipython",
    "version": 3
   },
   "file_extension": ".py",
   "mimetype": "text/x-python",
   "name": "python",
   "nbconvert_exporter": "python",
   "pygments_lexer": "ipython3",
   "version": "3.9.16"
  }
 },
 "nbformat": 4,
 "nbformat_minor": 2
}
